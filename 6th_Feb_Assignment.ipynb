{
 "cells": [
  {
   "cell_type": "code",
   "execution_count": 3,
   "id": "e83e4fb8-8750-476e-ad2e-e296a5f0e736",
   "metadata": {},
   "outputs": [],
   "source": [
    "#1. Create a function which will take a list as an argument and return the product of all the numbers after\n",
    "# creating a flat list.\n",
    "list1= [1,2,3,4,[44,55,66,True],False,(34,56,78,89,34),{1,2,3,3,2,1},{1:34,\n",
    "                \"KEY 2\":[55,67,78,89],4:(45,22,61,34)},[56,\"Data Science\"],\"Machine Learning\"]\n",
    "from functools import reduce"
   ]
  },
  {
   "cell_type": "code",
   "execution_count": 10,
   "id": "ee20115e-ad32-4da6-878a-3cded76111df",
   "metadata": {},
   "outputs": [
    {
     "name": "stdout",
     "output_type": "stream",
     "text": [
      "4134711838987085478833841242112000\n"
     ]
    }
   ],
   "source": [
    "def prod(list1):\n",
    "    def data_extract(x,y):\n",
    "        if type(x) == int or type(x) == float:\n",
    "            y.append(x)\n",
    "        if type(x) == list or type(x) == tuple or type(x) == set:\n",
    "            for b in x:\n",
    "                y.append(b)  \n",
    "    keys_extract = []\n",
    "    for i in list1:\n",
    "        data_extract(i,keys_extract)\n",
    "        if type(i) == dict:\n",
    "            for j in list(i.keys()):\n",
    "                data_extract(j,keys_extract)\n",
    "            for j in list(i.values()):\n",
    "                data_extract(j,keys_extract)  \n",
    "    A = list(filter(lambda x:type(x) == int,keys_extract))\n",
    "    return A \n",
    "final = prod(list1)\n",
    "print(reduce(lambda x,y:x*y,final)) \n"
   ]
  },
  {
   "cell_type": "code",
   "execution_count": 13,
   "id": "5caecfa0-1225-452d-9972-d7afe4bdf951",
   "metadata": {},
   "outputs": [],
   "source": [
    "#Q2. Write a python program for encrypting a message sent to you by your friend. The logic of encryption should be such that for \"a\" the output should be \"z\",\n",
    "# for \"b\" the output should be \"y\" for \"c\" the output should be \"x\" respectively. Also the white space should be replaced with $ sign keep the punctuation mark as it is.\n",
    "\n",
    "import string\n",
    "input_string=\"i want to become a data sciencist\".lower()\n",
    "gen_lst=[]\n",
    "\n",
    "for words in input_string.split():\n",
    "    letter=\"\"\n",
    "    for letters in words:\n",
    "        inp_alpha=list(string.ascii_lowercase)\n",
    "        index=inp_alpha.index(letters)\n",
    "        letter=letter+inp_alpha[-(index+1)]\n",
    "        gen_lst.append(letter)\n",
    "\n",
    "gen_sentance= \"$\".join(gen_lst)"
   ]
  },
  {
   "cell_type": "code",
   "execution_count": 14,
   "id": "c341fa4a-5464-4af3-b238-41097b37edd7",
   "metadata": {},
   "outputs": [
    {
     "data": {
      "text/plain": [
       "'i want to become a data sciencist'"
      ]
     },
     "execution_count": 14,
     "metadata": {},
     "output_type": "execute_result"
    }
   ],
   "source": [
    "input_string"
   ]
  },
  {
   "cell_type": "code",
   "execution_count": 15,
   "id": "498766af-7168-407b-b372-e53c1045fbe3",
   "metadata": {},
   "outputs": [
    {
     "data": {
      "text/plain": [
       "'r$d$dz$dzm$dzmg$g$gl$y$yv$yvx$yvxl$yvxln$yvxlnv$z$w$wz$wzg$wzgz$h$hx$hxr$hxrv$hxrvm$hxrvmx$hxrvmxr$hxrvmxrh$hxrvmxrhg'"
      ]
     },
     "execution_count": 15,
     "metadata": {},
     "output_type": "execute_result"
    }
   ],
   "source": [
    "gen_sentance"
   ]
  },
  {
   "cell_type": "code",
   "execution_count": null,
   "id": "e195de9f-2faf-47da-af95-2c3a4ca88c5d",
   "metadata": {},
   "outputs": [],
   "source": []
  }
 ],
 "metadata": {
  "kernelspec": {
   "display_name": "Python 3 (ipykernel)",
   "language": "python",
   "name": "python3"
  },
  "language_info": {
   "codemirror_mode": {
    "name": "ipython",
    "version": 3
   },
   "file_extension": ".py",
   "mimetype": "text/x-python",
   "name": "python",
   "nbconvert_exporter": "python",
   "pygments_lexer": "ipython3",
   "version": "3.10.8"
  }
 },
 "nbformat": 4,
 "nbformat_minor": 5
}
