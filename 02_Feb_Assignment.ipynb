{
 "cells": [
  {
   "cell_type": "code",
   "execution_count": 1,
   "id": "0f11d9fd-0cf2-46a3-a2f5-17d062a8af57",
   "metadata": {},
   "outputs": [],
   "source": [
    "#Q1. When to use a for loop and when to use a while loop explain it with example?\n",
    "#Ans: In python we use for loop if we know the number of iterations in advance and we use while loop\n",
    "# When we don't know how many times the loop will iterate in advance then we go for while loop."
   ]
  },
  {
   "cell_type": "code",
   "execution_count": 7,
   "id": "9134f288-4405-4274-9ccd-fb47ca6f4e99",
   "metadata": {},
   "outputs": [
    {
     "name": "stdin",
     "output_type": "stream",
     "text": [
      "Enter the number:  2\n"
     ]
    },
    {
     "name": "stdout",
     "output_type": "stream",
     "text": [
      "2\n",
      "2\n"
     ]
    }
   ],
   "source": [
    "n = int(input(\"Enter the number: \"))\n",
    "for i in range(n):\n",
    "    print(n)"
   ]
  },
  {
   "cell_type": "code",
   "execution_count": 8,
   "id": "a79c1af0-5d13-4482-9ba7-679ce6717136",
   "metadata": {},
   "outputs": [],
   "source": [
    "# Here in the above example we take an input from the user and we will print that value that many times so here\n",
    "# we even don't know the input but still we are able to predict that we can print that and the loop will iterate\n",
    "# That many times so we use for loop."
   ]
  },
  {
   "cell_type": "code",
   "execution_count": 11,
   "id": "2faf705c-b446-4ee7-ab3b-b1838900e1d6",
   "metadata": {},
   "outputs": [
    {
     "name": "stdin",
     "output_type": "stream",
     "text": [
      "Enter the number:  5\n"
     ]
    },
    {
     "name": "stdout",
     "output_type": "stream",
     "text": [
      "Jai Shree Ram!!!\n",
      "Jai Shree Ram!!!\n",
      "Jai Shree Ram!!!\n",
      "Jai Shree Ram!!!\n"
     ]
    }
   ],
   "source": [
    "n = int(input(\"Enter the number: \"))\n",
    "if n <= 2:\n",
    "    print(\"Please enter the value which is greater then 5\")\n",
    "while n>=2:\n",
    "    print(\"Jai Shree Ram!!!\")\n",
    "    n=n-1"
   ]
  },
  {
   "cell_type": "code",
   "execution_count": 12,
   "id": "858fe928-05a5-497d-881f-ccd6dc648701",
   "metadata": {},
   "outputs": [],
   "source": [
    "#In the above case we don't know how many time the loop will execute that why we take while loop and we check the \n",
    "#codition for the execution of the while loop if the condition does not met then on that time loop will terminate."
   ]
  },
  {
   "cell_type": "code",
   "execution_count": 14,
   "id": "57cf4b67-2b5a-49df-b3f6-af38d3ce4f08",
   "metadata": {},
   "outputs": [
    {
     "name": "stdout",
     "output_type": "stream",
     "text": [
      "The sum of first 10 number is:  55  and its product is:  3628800\n"
     ]
    }
   ],
   "source": [
    "#Q2. Write a python program to print the sum, product of first 10 number using while loop.\n",
    "num=1\n",
    "sum=0\n",
    "prod=1\n",
    "while num<=10:\n",
    "    sum=sum+num\n",
    "    prod=prod*num\n",
    "    num+=1\n",
    "print(\"The sum of first 10 number is: \",sum,\" and its product is: \",prod)\n",
    "    "
   ]
  },
  {
   "cell_type": "code",
   "execution_count": 16,
   "id": "5e98d6b0-2e33-4fcd-b4e4-6f489e75611e",
   "metadata": {},
   "outputs": [
    {
     "name": "stdin",
     "output_type": "stream",
     "text": [
      "Please enter the electric unit value that you have consumed:  310\n"
     ]
    },
    {
     "name": "stdout",
     "output_type": "stream",
     "text": [
      "The electric bill for  310  is:  2250.0\n"
     ]
    }
   ],
   "source": [
    "#Q3. Create a python program to compute the electricity bill for a household. The per unit charge is as follows:\n",
    "# For first 100 unit user has to pay 4.5 rupees per unit.\n",
    "# For next 100 unit user has to pay 6 rupees per unit.\n",
    "# For next 100 unit user has to pay 10 rupees per unit and \n",
    "# After 300 unit user has to pay 20 rupees per unit.\n",
    "\n",
    "Unit_Value = int(input(\"Please enter the electric unit value that you have consumed: \"))\n",
    "if Unit_Value <= 100:\n",
    "    print(\"The electric bill for \",Unit_Value, \" is: \",4.5*Unit_Value)\n",
    "elif Unit_Value >= 101 and Unit_Value <= 200:\n",
    "    print(\"The electric bill for \",Unit_Value, \" is: \",100 * 4.5 + (Unit_Value - 100) * 6)\n",
    "elif Unit_Value >= 201 and Unit_Value <= 300:\n",
    "    print(\"The electric bill for \",Unit_Value, \" is: \",100 * 4.5 + 100 * 6 + (Unit_Value - 200) * 10)\n",
    "else:\n",
    "    print(\"The electric bill for \",Unit_Value, \" is: \",100 * 4.5 + 100 * 6 + 100 * 10 + (Unit_Value - 300) * 20)\n"
   ]
  },
  {
   "cell_type": "code",
   "execution_count": 53,
   "id": "7d8bf2f5-e5a9-47ab-a704-731a8b152e2d",
   "metadata": {},
   "outputs": [
    {
     "data": {
      "text/plain": [
       "[8,\n",
       " 64,\n",
       " 125,\n",
       " 216,\n",
       " 512,\n",
       " 1000,\n",
       " 1728,\n",
       " 2744,\n",
       " 3375,\n",
       " 4096,\n",
       " 5832,\n",
       " 8000,\n",
       " 10648,\n",
       " 13824,\n",
       " 15625,\n",
       " 17576,\n",
       " 21952,\n",
       " 27000,\n",
       " 32768,\n",
       " 39304,\n",
       " 42875,\n",
       " 46656,\n",
       " 54872,\n",
       " 64000,\n",
       " 74088,\n",
       " 85184,\n",
       " 91125,\n",
       " 97336,\n",
       " 110592,\n",
       " 125000,\n",
       " 140608,\n",
       " 157464,\n",
       " 166375,\n",
       " 175616,\n",
       " 195112,\n",
       " 216000,\n",
       " 238328,\n",
       " 262144,\n",
       " 274625,\n",
       " 287496,\n",
       " 314432,\n",
       " 343000,\n",
       " 373248,\n",
       " 405224,\n",
       " 421875,\n",
       " 438976,\n",
       " 474552,\n",
       " 512000,\n",
       " 551368,\n",
       " 592704,\n",
       " 614125,\n",
       " 636056,\n",
       " 681472,\n",
       " 729000,\n",
       " 778688,\n",
       " 830584,\n",
       " 857375,\n",
       " 884736,\n",
       " 941192,\n",
       " 1000000]"
      ]
     },
     "execution_count": 53,
     "metadata": {},
     "output_type": "execute_result"
    }
   ],
   "source": [
    "#Q4. Create a list of numbers form 1 to 100. Use for and while loop to calculate the cube of each number and if \n",
    "# the cube of that number is divisible by 4 or 5 then append that number in a list and print that list.\n",
    "\n",
    "\n",
    "l1=[]\n",
    "l2=[]\n",
    "\n",
    "for i in range(1,101):\n",
    "    l1.append(i)\n",
    "    l2.append(i*i*i)\n",
    "l3= [i for i in l2 if i%4==0 or i%5==0 ]\n",
    "l3\n",
    "\n",
    "    "
   ]
  },
  {
   "cell_type": "code",
   "execution_count": 79,
   "id": "122ed8ce-6237-4697-8ab0-50d6b3cc3af8",
   "metadata": {},
   "outputs": [
    {
     "data": {
      "text/plain": [
       "[8,\n",
       " 64,\n",
       " 125,\n",
       " 216,\n",
       " 512,\n",
       " 1000,\n",
       " 1728,\n",
       " 2744,\n",
       " 3375,\n",
       " 4096,\n",
       " 5832,\n",
       " 8000,\n",
       " 10648,\n",
       " 13824,\n",
       " 15625,\n",
       " 17576,\n",
       " 21952,\n",
       " 27000,\n",
       " 32768,\n",
       " 39304,\n",
       " 42875,\n",
       " 46656,\n",
       " 54872,\n",
       " 64000,\n",
       " 74088,\n",
       " 85184,\n",
       " 91125,\n",
       " 97336,\n",
       " 110592,\n",
       " 125000,\n",
       " 140608,\n",
       " 157464,\n",
       " 166375,\n",
       " 175616,\n",
       " 195112,\n",
       " 216000,\n",
       " 238328,\n",
       " 262144,\n",
       " 274625,\n",
       " 287496,\n",
       " 314432,\n",
       " 343000,\n",
       " 373248,\n",
       " 405224,\n",
       " 421875,\n",
       " 438976,\n",
       " 474552,\n",
       " 512000,\n",
       " 551368,\n",
       " 592704,\n",
       " 614125,\n",
       " 636056,\n",
       " 681472,\n",
       " 729000,\n",
       " 778688,\n",
       " 830584,\n",
       " 857375,\n",
       " 884736,\n",
       " 941192,\n",
       " 1000000]"
      ]
     },
     "execution_count": 79,
     "metadata": {},
     "output_type": "execute_result"
    }
   ],
   "source": [
    "# Here i used the while loop to create the cube of the item present into the list.\n",
    "l4=[]\n",
    "for i in range(1,101):\n",
    "    l4.append(i)\n",
    "l5=[]\n",
    "list_length=len(l4)\n",
    "start_point=0\n",
    "\n",
    "while start_point < list_length:\n",
    "    l5.append(l4[start_point]*l4[start_point]*l4[start_point])\n",
    "    start_point=start_point+1\n",
    "\n",
    "l6= [i for i in l2 if i%4==0 or i%5==0 ]\n",
    "l6\n"
   ]
  },
  {
   "cell_type": "code",
   "execution_count": 81,
   "id": "752f26c6-bcfc-4bcd-9087-28049ba426ac",
   "metadata": {},
   "outputs": [
    {
     "name": "stdout",
     "output_type": "stream",
     "text": [
      "12\n"
     ]
    }
   ],
   "source": [
    "#Q5. Write a program to filter the vowel count from the given string\n",
    "# I want to become a data scientist \n",
    "my_string = \"i want to become a data scientist\"\n",
    "vowels = \"aeiou\"\n",
    "count = 0\n",
    "for i in my_string:\n",
    "    if i in vowels:\n",
    "        count += 1\n",
    "print(count)\n",
    "        "
   ]
  },
  {
   "cell_type": "code",
   "execution_count": null,
   "id": "107e8bcf-dc02-4404-8217-4d6ecbbb3aa4",
   "metadata": {},
   "outputs": [],
   "source": []
  }
 ],
 "metadata": {
  "kernelspec": {
   "display_name": "Python 3 (ipykernel)",
   "language": "python",
   "name": "python3"
  },
  "language_info": {
   "codemirror_mode": {
    "name": "ipython",
    "version": 3
   },
   "file_extension": ".py",
   "mimetype": "text/x-python",
   "name": "python",
   "nbconvert_exporter": "python",
   "pygments_lexer": "ipython3",
   "version": "3.10.8"
  }
 },
 "nbformat": 4,
 "nbformat_minor": 5
}
