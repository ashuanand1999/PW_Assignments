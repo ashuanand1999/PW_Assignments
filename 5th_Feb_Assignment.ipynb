{
 "cells": [
  {
   "cell_type": "code",
   "execution_count": null,
   "id": "80a57416-1fbb-49e5-b7b9-1ca234697eeb",
   "metadata": {},
   "outputs": [],
   "source": [
    "#Q1. Explain class and object with respect to OOPs. Give a suitable example.\n",
    "#Ans:- Class is a blue print/template of an object it conatains variable and methods. If a group of object which\n",
    "# share similar types of methods and variables then in that case we define those into a class.A object is a real\n",
    "# world entity which has some charateristics and features.\n",
    "\n",
    "# Here is the class \n",
    "class Test:\n",
    "    def __init__(self):\n",
    "        self.name=\"Ashutosh Anand\"\n",
    "        self.company=\"Capgemini\"\n",
    "        self.designation=\"Associate Consultant\"\n",
    "    \n",
    "# Here is the object creation. \n",
    "t=Test()"
   ]
  },
  {
   "cell_type": "code",
   "execution_count": null,
   "id": "87ff240c-0303-42b2-9be5-482e5b1ba02c",
   "metadata": {},
   "outputs": [],
   "source": [
    "#Q2. Name the four pillors of OPPs?\n",
    "#Ans:- The four pillors of OOP are:\n",
    "#1 Abstraction: Abstraction is a technique of providing only the essential details to the user by hiding the \n",
    "# unnecessary or irrelevant details of an entity. This helps in reducing the operational complexity at the user-end.\n",
    "#2 Encapsulation: Encapsulation is a technique of restricting a user from directly modifying the data members or \n",
    "# variables of a class in order to maintain the integrity of the data.\n",
    "#3 Inheritance: nheritance is a technique of acquiring the properties of another class having features in common. \n",
    "# It allows us to increase the reusability and reduce the duplication of code.\n",
    "#4 Polymorphism: Polymorphism means “many forms”. By its name, it is a feature that allows you to perform an action\n",
    "# in multiple or different ways."
   ]
  },
  {
   "cell_type": "code",
   "execution_count": 2,
   "id": "c11edd45-aec4-4848-96e0-a89d821e4ca5",
   "metadata": {},
   "outputs": [
    {
     "name": "stdout",
     "output_type": "stream",
     "text": [
      "Hello My Name is Ashutosh Anand, i am 25 years old and i am working in Capgemini as a Associate Consultant!!\n"
     ]
    }
   ],
   "source": [
    "#Q3. Explain why __init__() function is used. Give a suitable example.\n",
    "#Ans:- In python when we any function is inclosed with __ double underscors then we call it as donder method or \n",
    "# magical methods. So init is also a magical method which has a special work i.e object initialization and binding\n",
    "# object with that class. It executes when any object created it also bind the variable with the class and object.\n",
    "\n",
    "class Person:\n",
    "    def __init__(self):\n",
    "        self.name=\"Ashutosh Anand\"\n",
    "        self.company=\"Capgemini\"\n",
    "        self.designation=\"Associate Consultant\"\n",
    "        self.age = \"25\"\n",
    "        print(f\"Hello My Name is {self.name}, i am {self.age} years old and i am working in {self.company} as a {self.designation}!!\")\n",
    "p=Person() "
   ]
  },
  {
   "cell_type": "code",
   "execution_count": 1,
   "id": "e63f616e-0d99-4fda-894e-62c55c9fee05",
   "metadata": {},
   "outputs": [],
   "source": [
    "#Q4. Why self is used in OOPs?\n",
    "#In Python, self is used as a reference to the instance of a class. When defining a class, you can create methods \n",
    "#that operate on the instance of that class. When you call a method on an instance of a class, Python automatically \n",
    "#passes the instance as the first argument to the method. By convention, this first argument is named self."
   ]
  },
  {
   "cell_type": "code",
   "execution_count": 8,
   "id": "474605b1-f970-4871-be46-bf237ca0ea2a",
   "metadata": {},
   "outputs": [],
   "source": [
    "#Q5.What is inhertance? Give an example of each inheritance. \n",
    "# Inheritance is a technique of acquiring the properties of another class having features in common. \n",
    "# It allows us to increase the reusability and reduce the duplication of code.\n",
    "# There are four types of inheritance in python\n",
    "#1. Single\n",
    "#2. Multi-level\n",
    "#3. Hierarchical\n",
    "#4. Hybrid\n",
    "\n",
    "#1. Single Inheritance:- In this type of inheritance we extract the features of one class at a time.\n",
    "class Papa:\n",
    "    def __init__(self):\n",
    "        self.eye_color=\"Brown\"\n",
    "        self.hair_texture=\"Curly\"\n",
    "        self.jaw_line=\"Less jaw line looks little fatty\"\n",
    "class Maa:\n",
    "    def __init__(self):\n",
    "        self.nature=\"Kindness\"\n",
    "        self.height=\"Average Height\"\n",
    "        self.desire=\"Selfless open to give all things for others\"\n",
    "\n",
    "class Ashu(Maa):\n",
    "    def Morphology(self):\n",
    "        print(\"Ashutosh eye Color is similar to his father: \",self.eye_color)\n",
    "        print(\"Ashutosh hair is same like his father: \",self.hair_texture)\n",
    "        print(\"Ashutosh jaw line is very less same like his father: \",self.jaw_line)\n",
    "    def love_life(self):\n",
    "        print(\"Ashutosh is a selfloving person he love himeself too much and he will do everything for his family. He has no any need of girls and specially a dramatic girl.\")\n",
    "    def genetics(self):\n",
    "        print(\"Ashutosh has lots of: \",self.nature)\n",
    "        print(\"Ashutosh height is inherited from her mother i.e: \",self.height)\n",
    "        print(\"Ashutosh has no any desire for himself as like her mother: \",self.desire)\n",
    "    def dreams(self):\n",
    "        print(\"Ashutosh dreams that he want to become a successful person in his life and he always wants to live with his parents and siblings at any cost.\")"
   ]
  },
  {
   "cell_type": "code",
   "execution_count": 9,
   "id": "fd347278-d92d-4a2e-ad27-af3a78fbb5f2",
   "metadata": {},
   "outputs": [],
   "source": [
    "A = Ashu()"
   ]
  },
  {
   "cell_type": "code",
   "execution_count": 10,
   "id": "0f75de36-6406-4f93-9ee7-3a9cc0fab241",
   "metadata": {},
   "outputs": [
    {
     "data": {
      "text/plain": [
       "'Kindness'"
      ]
     },
     "execution_count": 10,
     "metadata": {},
     "output_type": "execute_result"
    }
   ],
   "source": [
    "A.nature"
   ]
  },
  {
   "cell_type": "code",
   "execution_count": 11,
   "id": "e04eb8e5-dccc-489a-b18d-2298be8b92ba",
   "metadata": {},
   "outputs": [
    {
     "name": "stdout",
     "output_type": "stream",
     "text": [
      "Ashutosh has lots of:  Kindness\n",
      "Ashutosh height is inherited from her mother i.e:  Average Height\n",
      "Ashutosh has no any desire for himself as like her mother:  Selfless open to give all things for others\n"
     ]
    }
   ],
   "source": [
    "A.genetics()"
   ]
  },
  {
   "cell_type": "code",
   "execution_count": 12,
   "id": "37168e7e-dafb-4021-81b5-05e365bfdfef",
   "metadata": {},
   "outputs": [
    {
     "name": "stdout",
     "output_type": "stream",
     "text": [
      "Ashutosh dreams that he want to become a successful person in his life and he always wants to live with his parents and siblings at any cost.\n"
     ]
    }
   ],
   "source": [
    "A.dreams()"
   ]
  },
  {
   "cell_type": "code",
   "execution_count": 34,
   "id": "658ccbf9-0a80-4fda-9e57-5611b65cd16f",
   "metadata": {},
   "outputs": [],
   "source": [
    "#2. Multi level Inheritance:- In this type of inheritance we inherit the property on one class to another class\n",
    "# and then again inherit the 2nd class features to the third class.\n",
    "\n",
    "class Parent:\n",
    "    def __init__(self,name):\n",
    "        self.name = name\n",
    "    def getName(self):\n",
    "        return self.name\n",
    "class Child(Parent):\n",
    "    def __init__(self,name,age):\n",
    "        Parent.__init__(self,name)\n",
    "        self.age = age\n",
    "    def getAge(self):\n",
    "        return self.age\n",
    "class Grandchild(Child):\n",
    "    def __init__(self,name,age,location):\n",
    "        Child.__init__(self,name,age)\n",
    "        self.location=location\n",
    "    def getLocation(self):\n",
    "        return self.location"
   ]
  },
  {
   "cell_type": "code",
   "execution_count": 35,
   "id": "a8562c94-379a-4c21-9f24-ab13358b46c4",
   "metadata": {},
   "outputs": [],
   "source": [
    "gc=Grandchild(\"Ashutosh\",25,\"Noida\")"
   ]
  },
  {
   "cell_type": "code",
   "execution_count": 36,
   "id": "5f5dac1e-af62-4164-9b89-4739cca4c517",
   "metadata": {},
   "outputs": [
    {
     "data": {
      "text/plain": [
       "'Ashutosh'"
      ]
     },
     "execution_count": 36,
     "metadata": {},
     "output_type": "execute_result"
    }
   ],
   "source": [
    "gc.getName()"
   ]
  },
  {
   "cell_type": "code",
   "execution_count": 37,
   "id": "0e05ce38-071e-43ff-ac57-1c1f6ed9a732",
   "metadata": {},
   "outputs": [
    {
     "data": {
      "text/plain": [
       "25"
      ]
     },
     "execution_count": 37,
     "metadata": {},
     "output_type": "execute_result"
    }
   ],
   "source": [
    "gc.getAge()"
   ]
  },
  {
   "cell_type": "code",
   "execution_count": 39,
   "id": "44d9f14f-1b7a-4c0e-96a1-bf9aef8e5e6f",
   "metadata": {},
   "outputs": [
    {
     "data": {
      "text/plain": [
       "'Noida'"
      ]
     },
     "execution_count": 39,
     "metadata": {},
     "output_type": "execute_result"
    }
   ],
   "source": [
    "gc.location"
   ]
  },
  {
   "cell_type": "code",
   "execution_count": 40,
   "id": "4ef1ab4e-bec5-4b5a-b26e-a34130d267b2",
   "metadata": {},
   "outputs": [
    {
     "data": {
      "text/plain": [
       "'Noida'"
      ]
     },
     "execution_count": 40,
     "metadata": {},
     "output_type": "execute_result"
    }
   ],
   "source": [
    "gc.getLocation()"
   ]
  },
  {
   "cell_type": "code",
   "execution_count": 41,
   "id": "699df216-7277-497a-accc-da61e296c1a8",
   "metadata": {},
   "outputs": [
    {
     "name": "stdout",
     "output_type": "stream",
     "text": [
      "30\n",
      "200\n",
      "0.5\n"
     ]
    }
   ],
   "source": [
    "#Multiple Inheritance:- In this type of inheritance we are extracting the attributes of more then one class at\n",
    "# a time into a class.\n",
    "class Calculation1:  \n",
    "    def Summation(self,a,b):  \n",
    "        return a+b;  \n",
    "class Calculation2:  \n",
    "    def Multiplication(self,a,b):  \n",
    "        return a*b;  \n",
    "class Derived(Calculation1,Calculation2):  \n",
    "    def Divide(self,a,b):  \n",
    "        return a/b;  \n",
    "d = Derived()  \n",
    "print(d.Summation(10,20))  \n",
    "print(d.Multiplication(10,20))  \n",
    "print(d.Divide(10,20))"
   ]
  },
  {
   "cell_type": "code",
   "execution_count": 42,
   "id": "9e26d4fe-d88f-44ab-87c9-28cb92f35d1f",
   "metadata": {},
   "outputs": [],
   "source": [
    "# Hierarchical Inheritance:- In this type of inheritance one class attributes can be derived by more then one class.\n",
    "class Papa:\n",
    "    def __init__(self):\n",
    "        self.eye_color=\"Brown\"\n",
    "        self.hair_texture=\"Curly\"\n",
    "        self.jaw_line=\"Less jaw line looks little fatty\"\n",
    "class Ashu(Papa):\n",
    "    def Morphology(self):\n",
    "        print(\"Ashutosh eye Color is similar to his father: \",self.eye_color)\n",
    "        print(\"Ashutosh hair is same like his father: \",self.hair_texture)\n",
    "        print(\"Ashutosh jaw line is very less same like his father: \",self.jaw_line)\n",
    "class Abhishek(Papa):\n",
    "    def Morphology(self):\n",
    "        print(\"Abhishek eye Color is similar to his father: \",self.eye_color)\n",
    "        print(\"Abhishek hair is same like his father: \",self.hair_texture)\n",
    "        print(\"Abhishek jaw line is very less same like his father: \",self.jaw_line)     "
   ]
  },
  {
   "cell_type": "code",
   "execution_count": 43,
   "id": "007c767a-7bdd-459c-8b65-45815873511c",
   "metadata": {},
   "outputs": [],
   "source": [
    "A1=Abhishek()"
   ]
  },
  {
   "cell_type": "code",
   "execution_count": 44,
   "id": "9f73715b-2520-4fb3-9a66-c354a411a4be",
   "metadata": {},
   "outputs": [
    {
     "data": {
      "text/plain": [
       "'Curly'"
      ]
     },
     "execution_count": 44,
     "metadata": {},
     "output_type": "execute_result"
    }
   ],
   "source": [
    "A1.hair_texture"
   ]
  },
  {
   "cell_type": "code",
   "execution_count": 45,
   "id": "87f5183b-e6e2-48a6-b74a-194581dc0b3c",
   "metadata": {},
   "outputs": [
    {
     "name": "stdout",
     "output_type": "stream",
     "text": [
      "Abhishek eye Color is similar to his father:  Brown\n",
      "Abhishek hair is same like his father:  Curly\n",
      "Abhishek jaw line is very less same like his father:  Less jaw line looks little fatty\n"
     ]
    }
   ],
   "source": [
    "A1.Morphology()"
   ]
  },
  {
   "cell_type": "code",
   "execution_count": 47,
   "id": "ee02e7ee-9a86-478e-ab97-537058b18ce6",
   "metadata": {},
   "outputs": [],
   "source": [
    "A2=Ashu()"
   ]
  },
  {
   "cell_type": "code",
   "execution_count": 48,
   "id": "953e680c-85ed-418f-bec5-d13fbfef9931",
   "metadata": {},
   "outputs": [
    {
     "data": {
      "text/plain": [
       "'Less jaw line looks little fatty'"
      ]
     },
     "execution_count": 48,
     "metadata": {},
     "output_type": "execute_result"
    }
   ],
   "source": [
    "A2.jaw_line"
   ]
  },
  {
   "cell_type": "code",
   "execution_count": 49,
   "id": "cda1cad1-ef74-4cb6-ab41-cb788970b04e",
   "metadata": {},
   "outputs": [
    {
     "name": "stdout",
     "output_type": "stream",
     "text": [
      "Ashutosh eye Color is similar to his father:  Brown\n",
      "Ashutosh hair is same like his father:  Curly\n",
      "Ashutosh jaw line is very less same like his father:  Less jaw line looks little fatty\n"
     ]
    }
   ],
   "source": [
    "A2.Morphology()"
   ]
  },
  {
   "cell_type": "code",
   "execution_count": 50,
   "id": "b1e0273e-e021-4a95-bb13-ca97019e124a",
   "metadata": {},
   "outputs": [],
   "source": [
    "\n",
    "class vehicle:\n",
    "    def __init__(self,model,mileage,price):\n",
    "        self.price = price\n",
    "        self.mileage = mileage\n",
    "        self.model = model\n",
    "    def show_details(self):\n",
    "        print(f'Model : {self.model}')\n",
    "        print(f'Price : {self.price}')\n",
    "        print(f'Mileage : {self.mileage}')\n",
    "class bike(vehicle):\n",
    "    def __init__(self,model,mileage,price,tyre,cc):\n",
    "        super().__init__(model,mileage,price)\n",
    "        self.cc = cc\n",
    "        self.tyre = tyre\n",
    "    def show_details(self):\n",
    "        super().show_details()\n",
    "        print(f'CC : {self.cc}')\n",
    "        print(f'Tyres : {self.tyre}')\n",
    "    def rating(self):\n",
    "        print('4 star')\n",
    "class car(bike,vehicle):\n",
    "    def rating(self):\n",
    "        print('5 star')\n"
   ]
  },
  {
   "cell_type": "code",
   "execution_count": 51,
   "id": "4f9e4c23-659f-4a70-92a7-37689f2e347a",
   "metadata": {},
   "outputs": [],
   "source": [
    "bajaj = bike(\"Dominar\",40,145000,2,500)\n"
   ]
  },
  {
   "cell_type": "code",
   "execution_count": 52,
   "id": "6bc77dbe-6c99-471c-a996-899e48cf2149",
   "metadata": {},
   "outputs": [],
   "source": [
    "tata = car(\"Safari\",25,2500000,4,2000)\n"
   ]
  },
  {
   "cell_type": "code",
   "execution_count": 53,
   "id": "124d03e4-87bb-4789-8d45-f5f7b48cbb5e",
   "metadata": {},
   "outputs": [
    {
     "name": "stdout",
     "output_type": "stream",
     "text": [
      "Model : Dominar\n",
      "Price : 145000\n",
      "Mileage : 40\n",
      "CC : 500\n",
      "Tyres : 2\n"
     ]
    }
   ],
   "source": [
    "bajaj.show_details()\n"
   ]
  },
  {
   "cell_type": "code",
   "execution_count": 54,
   "id": "3c9e9009-5654-41b4-aaf2-84a2c8bda609",
   "metadata": {},
   "outputs": [
    {
     "name": "stdout",
     "output_type": "stream",
     "text": [
      "Model : Safari\n",
      "Price : 2500000\n",
      "Mileage : 25\n",
      "CC : 2000\n",
      "Tyres : 4\n"
     ]
    }
   ],
   "source": [
    "tata.show_details()\n"
   ]
  },
  {
   "cell_type": "code",
   "execution_count": 55,
   "id": "88c7e181-9f23-4b5d-9016-0241c3da509d",
   "metadata": {},
   "outputs": [
    {
     "name": "stdout",
     "output_type": "stream",
     "text": [
      "4 star\n"
     ]
    }
   ],
   "source": [
    "\n",
    "bajaj.rating()\n"
   ]
  },
  {
   "cell_type": "code",
   "execution_count": 56,
   "id": "a11e3ddc-a58b-4798-b9ea-c7f20604a388",
   "metadata": {},
   "outputs": [
    {
     "name": "stdout",
     "output_type": "stream",
     "text": [
      "5 star\n"
     ]
    }
   ],
   "source": [
    "\n",
    "tata.rating()"
   ]
  },
  {
   "cell_type": "code",
   "execution_count": null,
   "id": "342bf359-757d-4e01-a9b7-3a22eeeb8835",
   "metadata": {},
   "outputs": [],
   "source": []
  }
 ],
 "metadata": {
  "kernelspec": {
   "display_name": "Python 3 (ipykernel)",
   "language": "python",
   "name": "python3"
  },
  "language_info": {
   "codemirror_mode": {
    "name": "ipython",
    "version": 3
   },
   "file_extension": ".py",
   "mimetype": "text/x-python",
   "name": "python",
   "nbconvert_exporter": "python",
   "pygments_lexer": "ipython3",
   "version": "3.10.8"
  }
 },
 "nbformat": 4,
 "nbformat_minor": 5
}
