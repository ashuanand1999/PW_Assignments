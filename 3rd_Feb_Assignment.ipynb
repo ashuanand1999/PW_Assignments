{
 "cells": [
  {
   "cell_type": "code",
   "execution_count": 8,
   "id": "0dd0dd0e-2411-4296-abe7-37336672700a",
   "metadata": {},
   "outputs": [
    {
     "data": {
      "text/plain": [
       "[1,\n",
       " 3,\n",
       " 5,\n",
       " 7,\n",
       " 9,\n",
       " 11,\n",
       " 13,\n",
       " 15,\n",
       " 17,\n",
       " 19,\n",
       " 21,\n",
       " 23,\n",
       " 25,\n",
       " 27,\n",
       " 29,\n",
       " 31,\n",
       " 33,\n",
       " 35,\n",
       " 37,\n",
       " 39,\n",
       " 41,\n",
       " 43,\n",
       " 45,\n",
       " 47,\n",
       " 49,\n",
       " 51,\n",
       " 53,\n",
       " 55,\n",
       " 57,\n",
       " 59,\n",
       " 61,\n",
       " 63,\n",
       " 65,\n",
       " 67,\n",
       " 69,\n",
       " 71,\n",
       " 73,\n",
       " 75,\n",
       " 77,\n",
       " 79,\n",
       " 81,\n",
       " 83,\n",
       " 85,\n",
       " 87,\n",
       " 89,\n",
       " 91,\n",
       " 93,\n",
       " 95,\n",
       " 97,\n",
       " 99,\n",
       " 101,\n",
       " 103,\n",
       " 105,\n",
       " 107,\n",
       " 109,\n",
       " 111,\n",
       " 113,\n",
       " 115,\n",
       " 117,\n",
       " 119,\n",
       " 121,\n",
       " 123,\n",
       " 125]"
      ]
     },
     "execution_count": 8,
     "metadata": {},
     "output_type": "execute_result"
    }
   ],
   "source": [
    "#Q1. Which keyword is used to create a function? Create a function to return a list of odd numbers in the range of \n",
    "# 1 to 125\n",
    "#Ans:- \"def\" keyword is used to create a function in python.\n",
    "\n",
    "def odd_numbers():\n",
    "    odd_numbers = []\n",
    "    for i in range(1, 126):\n",
    "        if i % 2 != 0:\n",
    "            odd_numbers.append(i)\n",
    "    return odd_numbers\n",
    "odd_numbers()"
   ]
  },
  {
   "cell_type": "code",
   "execution_count": 9,
   "id": "5127720e-975f-4e30-a171-570e399d6b68",
   "metadata": {},
   "outputs": [],
   "source": [
    "#Q2. Why *args and **kwargs are used in some functions? Create a function each for *args and **kwargs to demonstrate it.\n",
    "#Ans:- *args is used in python funtion to give more then one positional arguments(variable length argument), and \n",
    "# **kwargs is used for more then one (variable length argument) keyword arguments.\n",
    "\n",
    "def fun1(*n):\n",
    "    total=0\n",
    "    for n1 in n:\n",
    "        total=total+n1\n",
    "    print(\"The sum is: \",total)\n"
   ]
  },
  {
   "cell_type": "code",
   "execution_count": 10,
   "id": "a4c23bb6-e596-4ae4-b8fd-8e400661b9f9",
   "metadata": {},
   "outputs": [
    {
     "name": "stdout",
     "output_type": "stream",
     "text": [
      "The sum is:  0\n"
     ]
    }
   ],
   "source": [
    "fun1()"
   ]
  },
  {
   "cell_type": "code",
   "execution_count": 11,
   "id": "43d792ef-1d11-40b4-a911-ad42f811f0f1",
   "metadata": {},
   "outputs": [
    {
     "name": "stdout",
     "output_type": "stream",
     "text": [
      "The sum is:  2\n"
     ]
    }
   ],
   "source": [
    "fun1(1,1)"
   ]
  },
  {
   "cell_type": "code",
   "execution_count": 12,
   "id": "69f360fe-f5d6-45df-adab-e55dab37aee1",
   "metadata": {},
   "outputs": [
    {
     "name": "stdout",
     "output_type": "stream",
     "text": [
      "The sum is:  150\n"
     ]
    }
   ],
   "source": [
    "fun1(10,20,30,40,50)"
   ]
  },
  {
   "cell_type": "code",
   "execution_count": 13,
   "id": "63cb9530-50a1-418b-a1f1-39d8d5b95766",
   "metadata": {},
   "outputs": [],
   "source": [
    "def fun2(**kwargs):\n",
    "    for i,j in kwargs.items():\n",
    "        print(i,\"=\",j)\n",
    "        "
   ]
  },
  {
   "cell_type": "code",
   "execution_count": 14,
   "id": "14bfccc5-8c00-43b6-8bd1-af3f3554a591",
   "metadata": {},
   "outputs": [
    {
     "name": "stdout",
     "output_type": "stream",
     "text": [
      "a = 10\n"
     ]
    }
   ],
   "source": [
    "fun2(a=10)"
   ]
  },
  {
   "cell_type": "code",
   "execution_count": 15,
   "id": "c6445e0b-7b1c-447a-8956-b4c855e83e2c",
   "metadata": {},
   "outputs": [
    {
     "name": "stdout",
     "output_type": "stream",
     "text": [
      "a = 10\n",
      "b = 20\n",
      "c = 30\n",
      "d = 40\n",
      "e = 50\n",
      "f = 60\n",
      "g = 70\n",
      "h = 80\n"
     ]
    }
   ],
   "source": [
    "fun2(a=10,b=20,c=30,d=40,e=50,f=60,g=70,h=80)"
   ]
  },
  {
   "cell_type": "code",
   "execution_count": 16,
   "id": "c608ac52-8cef-42fd-b09e-af547a55782a",
   "metadata": {},
   "outputs": [],
   "source": [
    "#Q3. What is an iterator in python? Name the method used to initialise the iterator object and the method used for\n",
    "# iteration. Use these mathods to print the first five elements of the given list [2,4,6,8,10,12,14,16,18,20]\n",
    "#Ans:- Iterator is basically an object in python which iterate the values one by one to the end of the iterable \n",
    "# object. Internally iterator use next() to move from one value to the next value to produce the output. We can \n",
    "# make a iterable object as a Iterator by using iter().\n",
    "\n",
    "l1 = [2,4,6,8,10,12,14,16,18,20]\n",
    "New_l1 = iter(l1)\n"
   ]
  },
  {
   "cell_type": "code",
   "execution_count": 17,
   "id": "4ce2fbb7-8861-4aa5-83c7-bcf05aa71669",
   "metadata": {},
   "outputs": [
    {
     "data": {
      "text/plain": [
       "2"
      ]
     },
     "execution_count": 17,
     "metadata": {},
     "output_type": "execute_result"
    }
   ],
   "source": [
    "next(New_l1)"
   ]
  },
  {
   "cell_type": "code",
   "execution_count": 18,
   "id": "3d876e8d-ceb6-4970-a45d-72595087c86a",
   "metadata": {},
   "outputs": [
    {
     "data": {
      "text/plain": [
       "4"
      ]
     },
     "execution_count": 18,
     "metadata": {},
     "output_type": "execute_result"
    }
   ],
   "source": [
    "next(New_l1)"
   ]
  },
  {
   "cell_type": "code",
   "execution_count": 19,
   "id": "fe5afc52-2c2b-4e8f-87b0-f1b45fd2991e",
   "metadata": {},
   "outputs": [
    {
     "data": {
      "text/plain": [
       "6"
      ]
     },
     "execution_count": 19,
     "metadata": {},
     "output_type": "execute_result"
    }
   ],
   "source": [
    "next(New_l1)"
   ]
  },
  {
   "cell_type": "code",
   "execution_count": 20,
   "id": "56476436-9396-48c1-acc9-1ca237721863",
   "metadata": {},
   "outputs": [
    {
     "data": {
      "text/plain": [
       "8"
      ]
     },
     "execution_count": 20,
     "metadata": {},
     "output_type": "execute_result"
    }
   ],
   "source": [
    "next(New_l1)"
   ]
  },
  {
   "cell_type": "code",
   "execution_count": 21,
   "id": "efbf64f5-ea10-4c98-8eb1-a496e4231710",
   "metadata": {},
   "outputs": [
    {
     "data": {
      "text/plain": [
       "10"
      ]
     },
     "execution_count": 21,
     "metadata": {},
     "output_type": "execute_result"
    }
   ],
   "source": [
    "next(New_l1)"
   ]
  },
  {
   "cell_type": "code",
   "execution_count": 24,
   "id": "f978f65f-d8de-43cd-9915-404a14b61492",
   "metadata": {},
   "outputs": [
    {
     "name": "stdout",
     "output_type": "stream",
     "text": [
      "12\n",
      "14\n",
      "16\n",
      "18\n",
      "20\n"
     ]
    }
   ],
   "source": [
    "for i in range(5):\n",
    "    print(next(New_l1))"
   ]
  },
  {
   "cell_type": "code",
   "execution_count": 26,
   "id": "6906f98a-0cb0-426f-bcca-bf3bd84fc831",
   "metadata": {},
   "outputs": [],
   "source": [
    "#Q4. What is Generator function in python? Why Yield() keyword is used? Give an example of generator function.\n",
    "# Ans:- A generator is a function that returns an iterator that produces a sequence of values when iterated over.\n",
    "# Yeild keyword is used to generate the value from the generator function.\n",
    "def mygenfunc():\n",
    "    yield \"Jai Shree Ram!!\"\n",
    "    yield \"Jai Shree Krishna!!\"\n",
    "    yield \"Jai Hanuman!!\"\n",
    "    yield \"Bam Bam Mahadev\"\n"
   ]
  },
  {
   "cell_type": "code",
   "execution_count": 27,
   "id": "cb9c0a1d-01a7-41ea-9ae5-47cf4607818d",
   "metadata": {},
   "outputs": [],
   "source": [
    "g=mygenfunc()"
   ]
  },
  {
   "cell_type": "code",
   "execution_count": 28,
   "id": "a7cc6b49-a9dc-491f-b208-fb58c18c4acf",
   "metadata": {},
   "outputs": [
    {
     "data": {
      "text/plain": [
       "generator"
      ]
     },
     "execution_count": 28,
     "metadata": {},
     "output_type": "execute_result"
    }
   ],
   "source": [
    "type(g)"
   ]
  },
  {
   "cell_type": "code",
   "execution_count": 29,
   "id": "4b1c6082-d7a2-4479-b00d-ee751c68e5ff",
   "metadata": {},
   "outputs": [
    {
     "data": {
      "text/plain": [
       "'Jai Shree Ram!!'"
      ]
     },
     "execution_count": 29,
     "metadata": {},
     "output_type": "execute_result"
    }
   ],
   "source": [
    "next(g)"
   ]
  },
  {
   "cell_type": "code",
   "execution_count": 30,
   "id": "58a6ce5e-0784-4aa5-9c2b-b41b6d2d3ebb",
   "metadata": {},
   "outputs": [
    {
     "data": {
      "text/plain": [
       "'Jai Shree Krishna!!'"
      ]
     },
     "execution_count": 30,
     "metadata": {},
     "output_type": "execute_result"
    }
   ],
   "source": [
    "next(g)"
   ]
  },
  {
   "cell_type": "code",
   "execution_count": 31,
   "id": "e90a0237-6948-47ac-a893-84a7aa543fb9",
   "metadata": {},
   "outputs": [
    {
     "data": {
      "text/plain": [
       "'Jai Hanuman!!'"
      ]
     },
     "execution_count": 31,
     "metadata": {},
     "output_type": "execute_result"
    }
   ],
   "source": [
    "next(g)"
   ]
  },
  {
   "cell_type": "code",
   "execution_count": 32,
   "id": "946c15c3-e8e7-4706-8ab2-61e408976d16",
   "metadata": {},
   "outputs": [
    {
     "data": {
      "text/plain": [
       "'Bam Bam Mahadev'"
      ]
     },
     "execution_count": 32,
     "metadata": {},
     "output_type": "execute_result"
    }
   ],
   "source": [
    "next(g)"
   ]
  },
  {
   "cell_type": "code",
   "execution_count": 3,
   "id": "80cfab99-ab77-4431-9ce1-57027cc362f2",
   "metadata": {},
   "outputs": [],
   "source": [
    "#Q5. Create a generator function in python for prime number less then 1000. Use the next() to print the first 20 num.\n"
   ]
  },
  {
   "cell_type": "code",
   "execution_count": 4,
   "id": "69e30fc4-64d8-495d-ab6f-70f01a9c892b",
   "metadata": {},
   "outputs": [],
   "source": [
    "def prime_generator():\n",
    "    yield 2\n",
    "    primes = [2]\n",
    "    n = 3\n",
    "    while n < 1000:\n",
    "        if all(n % i != 0 for i in primes):\n",
    "            primes.append(n)\n",
    "            yield n\n",
    "        n += 2"
   ]
  },
  {
   "cell_type": "code",
   "execution_count": 5,
   "id": "cd82f9fa-fdb2-4d9b-b1d3-021471fecbdc",
   "metadata": {},
   "outputs": [
    {
     "name": "stdout",
     "output_type": "stream",
     "text": [
      "2\n",
      "3\n",
      "5\n",
      "7\n",
      "11\n",
      "13\n",
      "17\n",
      "19\n",
      "23\n",
      "29\n",
      "31\n",
      "37\n",
      "41\n",
      "43\n",
      "47\n",
      "53\n",
      "59\n",
      "61\n",
      "67\n",
      "71\n"
     ]
    }
   ],
   "source": [
    "primes = prime_generator()\n",
    "for i in range(20):\n",
    "    print(next(primes))\n"
   ]
  },
  {
   "cell_type": "code",
   "execution_count": 7,
   "id": "0e796e28-3f46-41b2-89c0-a2ab428fe6f5",
   "metadata": {},
   "outputs": [
    {
     "name": "stdout",
     "output_type": "stream",
     "text": [
      "0 1 1 2 3 5 8 13 21 34 "
     ]
    }
   ],
   "source": [
    "#Q6. Write a python program to print the first 10 fibnacci numbers using a while loop.\n",
    "a, b = 0, 1\n",
    "count = 0\n",
    "\n",
    "while count < 10:\n",
    "    print(a, end=' ')\n",
    "    a, b = b, a+b\n",
    "    count += 1\n"
   ]
  },
  {
   "cell_type": "code",
   "execution_count": 1,
   "id": "39aabf84-b9be-4673-850c-0bc410f5d862",
   "metadata": {},
   "outputs": [],
   "source": [
    "#Q7. Write a list comprehension to iterate through the given string \"pwskills\".\n",
    "s1=\"pwskills\"\n",
    "l1=[i for i in s1]"
   ]
  },
  {
   "cell_type": "code",
   "execution_count": 2,
   "id": "cb82a998-34cd-4d5d-a9b4-08045bb58473",
   "metadata": {},
   "outputs": [
    {
     "data": {
      "text/plain": [
       "['p', 'w', 's', 'k', 'i', 'l', 'l', 's']"
      ]
     },
     "execution_count": 2,
     "metadata": {},
     "output_type": "execute_result"
    }
   ],
   "source": [
    "l1"
   ]
  },
  {
   "cell_type": "code",
   "execution_count": 7,
   "id": "13b5228f-15f1-4c45-8d9d-9c8203db7edd",
   "metadata": {},
   "outputs": [
    {
     "name": "stdin",
     "output_type": "stream",
     "text": [
      "Enter a number to check is it pallindrome:  12321\n"
     ]
    },
    {
     "name": "stdout",
     "output_type": "stream",
     "text": [
      "12321\n",
      "12321\n",
      "12321\n",
      "12321\n",
      "12321\n"
     ]
    }
   ],
   "source": [
    "#Q8. Write a python program to print the given number is pallindrome or not using a while loop?\n",
    "n1= input(\"Enter a number to check is it pallindrome: \")\n",
    "n=0\n",
    "while n<len(n1):\n",
    "    if n1 == n1[::-1]:\n",
    "        print(n1)\n",
    "        n+=1"
   ]
  },
  {
   "cell_type": "code",
   "execution_count": 9,
   "id": "d824c2d5-aef8-4f48-8ad7-dc21bb4281eb",
   "metadata": {},
   "outputs": [
    {
     "name": "stdin",
     "output_type": "stream",
     "text": [
      "Enter a number:  12322421\n"
     ]
    },
    {
     "name": "stdout",
     "output_type": "stream",
     "text": [
      "12322421 is not a palindrome number\n"
     ]
    }
   ],
   "source": [
    "num = int(input(\"Enter a number: \"))\n",
    "original_num = num\n",
    "reverse_num = 0\n",
    "\n",
    "while num > 0:\n",
    "    digit = num % 10\n",
    "    reverse_num = (reverse_num * 10) + digit\n",
    "    num //= 10\n",
    "\n",
    "if original_num == reverse_num:\n",
    "    print(original_num, \"is a palindrome number\")\n",
    "else:\n",
    "    print(original_num, \"is not a palindrome number\")\n",
    "\n"
   ]
  },
  {
   "cell_type": "code",
   "execution_count": 10,
   "id": "1d1a4b8a-0152-40c0-9b18-ce7f4b31cbad",
   "metadata": {},
   "outputs": [
    {
     "name": "stdin",
     "output_type": "stream",
     "text": [
      "Enter a number:  12321\n"
     ]
    },
    {
     "name": "stdout",
     "output_type": "stream",
     "text": [
      "12321 is a palindrome number\n"
     ]
    }
   ],
   "source": [
    "num = int(input(\"Enter a number: \"))\n",
    "num_str = str(num)\n",
    "\n",
    "for i in range(len(num_str) // 2):\n",
    "    if num_str[i] != num_str[-1-i]:\n",
    "        print(num, \"is not a palindrome number\")\n",
    "        break\n",
    "else:\n",
    "    print(num, \"is a palindrome number\")\n"
   ]
  },
  {
   "cell_type": "code",
   "execution_count": 11,
   "id": "da137188-f276-4c03-9eb7-8cb9cfa6b62f",
   "metadata": {},
   "outputs": [],
   "source": [
    "#Q9. Write a python program to print the odd numbers from 1 to 100 using list comprehension.\n",
    "l1=[i for i in range(1,101)]"
   ]
  },
  {
   "cell_type": "code",
   "execution_count": 13,
   "id": "59ba9754-c72d-4281-8761-8a884f5a95b7",
   "metadata": {},
   "outputs": [],
   "source": [
    "l2=[i for i in l1 if i%2!=0]"
   ]
  },
  {
   "cell_type": "code",
   "execution_count": 14,
   "id": "47937971-16c8-4335-8226-a40872a964ef",
   "metadata": {},
   "outputs": [
    {
     "data": {
      "text/plain": [
       "[1,\n",
       " 3,\n",
       " 5,\n",
       " 7,\n",
       " 9,\n",
       " 11,\n",
       " 13,\n",
       " 15,\n",
       " 17,\n",
       " 19,\n",
       " 21,\n",
       " 23,\n",
       " 25,\n",
       " 27,\n",
       " 29,\n",
       " 31,\n",
       " 33,\n",
       " 35,\n",
       " 37,\n",
       " 39,\n",
       " 41,\n",
       " 43,\n",
       " 45,\n",
       " 47,\n",
       " 49,\n",
       " 51,\n",
       " 53,\n",
       " 55,\n",
       " 57,\n",
       " 59,\n",
       " 61,\n",
       " 63,\n",
       " 65,\n",
       " 67,\n",
       " 69,\n",
       " 71,\n",
       " 73,\n",
       " 75,\n",
       " 77,\n",
       " 79,\n",
       " 81,\n",
       " 83,\n",
       " 85,\n",
       " 87,\n",
       " 89,\n",
       " 91,\n",
       " 93,\n",
       " 95,\n",
       " 97,\n",
       " 99]"
      ]
     },
     "execution_count": 14,
     "metadata": {},
     "output_type": "execute_result"
    }
   ],
   "source": [
    "l2"
   ]
  },
  {
   "cell_type": "code",
   "execution_count": null,
   "id": "78c0dd25-fd51-4532-ad65-9fc0b2827dc8",
   "metadata": {},
   "outputs": [],
   "source": []
  }
 ],
 "metadata": {
  "kernelspec": {
   "display_name": "Python 3 (ipykernel)",
   "language": "python",
   "name": "python3"
  },
  "language_info": {
   "codemirror_mode": {
    "name": "ipython",
    "version": 3
   },
   "file_extension": ".py",
   "mimetype": "text/x-python",
   "name": "python",
   "nbconvert_exporter": "python",
   "pygments_lexer": "ipython3",
   "version": "3.10.8"
  }
 },
 "nbformat": 4,
 "nbformat_minor": 5
}
