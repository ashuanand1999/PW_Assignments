{
 "cells": [
  {
   "cell_type": "code",
   "execution_count": 3,
   "id": "5e90124e-bc7c-406d-8b59-3e6cc697f129",
   "metadata": {},
   "outputs": [],
   "source": [
    "#Q1. Write a python program to sort the list of tuples based on integer value using lambda function.\n",
    "l1=[('Virat Kohli',24936),('Rickey Ponting',27483),('Sachin Tendulkar',34357),('Jack Kallis',25534)]"
   ]
  },
  {
   "cell_type": "code",
   "execution_count": 5,
   "id": "121c6567-244f-48b9-8000-ad24d4d83dce",
   "metadata": {},
   "outputs": [
    {
     "data": {
      "text/plain": [
       "[('Sachin Tendulkar', 34357),\n",
       " ('Rickey Ponting', 27483),\n",
       " ('Jack Kallis', 25534),\n",
       " ('Virat Kohli', 24936)]"
      ]
     },
     "execution_count": 5,
     "metadata": {},
     "output_type": "execute_result"
    }
   ],
   "source": [
    "sorted_list = sorted(l1, key=lambda x: x[1], reverse=True)\n",
    "sorted_list"
   ]
  },
  {
   "cell_type": "code",
   "execution_count": 8,
   "id": "2d2a63b2-fb31-46e0-a4ba-e8ab0038fa8c",
   "metadata": {},
   "outputs": [
    {
     "data": {
      "text/plain": [
       "[1, 4, 9, 16, 25, 36, 49, 64, 81, 100]"
      ]
     },
     "execution_count": 8,
     "metadata": {},
     "output_type": "execute_result"
    }
   ],
   "source": [
    "#Q2. Write a python program to find the squares of all the numbers in the given list of integers using lambda\n",
    "# map functions.\n",
    "l2=[1,2,3,4,5,6,7,8,9,10]\n",
    "squared_list = list(map(lambda x: x**2, l2))\n",
    "squared_list"
   ]
  },
  {
   "cell_type": "code",
   "execution_count": 9,
   "id": "b8baad99-b5b4-4106-8780-58496c910249",
   "metadata": {},
   "outputs": [
    {
     "name": "stdout",
     "output_type": "stream",
     "text": [
      "(1, 2, 3, 4, 5, 6, 7, 8, 9, 10)\n"
     ]
    }
   ],
   "source": [
    "#Q3.Write a python program to convert the given list of integers into a tuples of string. Use map and lambda func\n",
    "Given_List=[1,2,3,4,5,6,7,8,9,10]\n",
    "Output=[]\n",
    "for i in Given_List:\n",
    "    Output.append(i)\n",
    "print(tuple(Output))"
   ]
  },
  {
   "cell_type": "code",
   "execution_count": 7,
   "id": "37a228a2-6405-4bff-97d6-228a5463b9a8",
   "metadata": {},
   "outputs": [
    {
     "data": {
      "text/plain": [
       "15511210043330985984000000"
      ]
     },
     "execution_count": 7,
     "metadata": {},
     "output_type": "execute_result"
    }
   ],
   "source": [
    "#Q4.Wrire a python program using reduce funtion to compute the product of a list containing number from 1 to 25.\n",
    "from functools import reduce\n",
    "list1=[i for i in range(1,26)]\n",
    "Prod_List = reduce((lambda x,y: x*y), list1)\n",
    "Prod_List"
   ]
  },
  {
   "cell_type": "code",
   "execution_count": 10,
   "id": "93244281-ba1a-4f1a-9f8c-b0692daa200a",
   "metadata": {},
   "outputs": [
    {
     "data": {
      "text/plain": [
       "[6, 60, 90, 120]"
      ]
     },
     "execution_count": 10,
     "metadata": {},
     "output_type": "execute_result"
    }
   ],
   "source": [
    "#Q5. Write a python program to filter the numbers in a given list that are divisible 2,3 using filter function.\n",
    "l1=[2,3,6,9,27,60,90,120,55,46]\n",
    "func= lambda x:(x % 2 == 0) and (x % 3 == 0)\n",
    "Result = list(filter(func,l1))\n",
    "Result"
   ]
  },
  {
   "cell_type": "code",
   "execution_count": 1,
   "id": "1d46b6a2-6542-4e70-9896-21df8ab11c19",
   "metadata": {},
   "outputs": [
    {
     "data": {
      "text/plain": [
       "['php', 'aba', 'radar', 'level']"
      ]
     },
     "execution_count": 1,
     "metadata": {},
     "output_type": "execute_result"
    }
   ],
   "source": [
    "#Q6. Write a python program to find the pallindromes in the given list of strings using lambda and filter functions.\n",
    "list1=[\"python\",\"php\",\"aba\",\"radar\",\"level\"]\n",
    "def pallindrome(list1):\n",
    "    for i in list1:\n",
    "        if i == i[::-1]:\n",
    "            print(i)\n",
    "#pallindrome(list1)\n",
    "is_pallindrome = lambda s : s == s[::-1]\n",
    "palindrome_list =  list(filter(is_pallindrome,list1))\n",
    "palindrome_list"
   ]
  },
  {
   "cell_type": "code",
   "execution_count": null,
   "id": "1a724310-88eb-495b-ae1b-fa03376cc7ff",
   "metadata": {},
   "outputs": [],
   "source": []
  }
 ],
 "metadata": {
  "kernelspec": {
   "display_name": "Python 3 (ipykernel)",
   "language": "python",
   "name": "python3"
  },
  "language_info": {
   "codemirror_mode": {
    "name": "ipython",
    "version": 3
   },
   "file_extension": ".py",
   "mimetype": "text/x-python",
   "name": "python",
   "nbconvert_exporter": "python",
   "pygments_lexer": "ipython3",
   "version": "3.10.8"
  }
 },
 "nbformat": 4,
 "nbformat_minor": 5
}
