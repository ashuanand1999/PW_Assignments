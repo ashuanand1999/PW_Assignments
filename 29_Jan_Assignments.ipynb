{
 "cells": [
  {
   "cell_type": "code",
   "execution_count": null,
   "id": "990a3fa3-3be2-48b3-a55b-e0519df54a32",
   "metadata": {},
   "outputs": [],
   "source": [
    "1. Who developed Python Programming language?\n",
    "Ans:- Python language was developed by Guido Van Rossum in 1991.\n",
    "2. Which type of programming does python supports?\n",
    "Ans:- Python supports multi-paradigm programming language means its supports Object Oriented as well as \n",
    "Structural or Functional programming.\n",
    "3. Is Python case sensitive when dealing with identifiers?\n",
    "Ans:- Yes Python is case sensitive while dealing with identifires. For proof we can call both identifiers."
   ]
  },
  {
   "cell_type": "code",
   "execution_count": 7,
   "id": "385bf77a-9f5a-42a5-acf5-a3f80bfabc7a",
   "metadata": {},
   "outputs": [],
   "source": [
    "a= 10"
   ]
  },
  {
   "cell_type": "code",
   "execution_count": 8,
   "id": "e4e5b37f-352e-4779-bf0c-81aac5ed64c6",
   "metadata": {},
   "outputs": [],
   "source": [
    "A= 20"
   ]
  },
  {
   "cell_type": "code",
   "execution_count": 9,
   "id": "b24f1b22-8a89-4e58-8074-75519c34d501",
   "metadata": {},
   "outputs": [
    {
     "data": {
      "text/plain": [
       "10"
      ]
     },
     "execution_count": 9,
     "metadata": {},
     "output_type": "execute_result"
    }
   ],
   "source": [
    "a"
   ]
  },
  {
   "cell_type": "code",
   "execution_count": 10,
   "id": "d86fd6db-6c53-4757-ac73-53c1c0917ad9",
   "metadata": {},
   "outputs": [
    {
     "data": {
      "text/plain": [
       "20"
      ]
     },
     "execution_count": 10,
     "metadata": {},
     "output_type": "execute_result"
    }
   ],
   "source": [
    "A"
   ]
  },
  {
   "cell_type": "code",
   "execution_count": null,
   "id": "42cba7c6-d3ae-48e1-b629-86387f460ac8",
   "metadata": {},
   "outputs": [],
   "source": [
    "4. What is the correct extension of python file?\n",
    "Ans:- .py is the correct extension for python file.\n",
    "5. Is python code is compiled or Interpreted?\n",
    "Ans:- Python code is interpreted line by line execution of the code.\n",
    "6. Name a few blocks of code used to define in python language.\n",
    "Ans:- In Python to define a block of code we use indentation and the indentation is nothing but four space or a tab.\n",
    "7. State a charecter used to define the single line of code.\n",
    "Ans:- To give the one line comment we use '#' as a charecter.\n",
    "8. Mention the function which can helps us to find the current version of the python that we are using.\n",
    "Ans:- python_version() function is used to find the current version of the python that we are using."
   ]
  },
  {
   "cell_type": "code",
   "execution_count": 14,
   "id": "5ff1ce1b-b6a1-4d82-8f31-feedce38da72",
   "metadata": {},
   "outputs": [
    {
     "name": "stdout",
     "output_type": "stream",
     "text": [
      "3.10.8\n"
     ]
    }
   ],
   "source": [
    "print(python_version())"
   ]
  },
  {
   "cell_type": "code",
   "execution_count": null,
   "id": "3226943b-d419-409d-9b55-e1752b0f5ef6",
   "metadata": {},
   "outputs": [],
   "source": [
    "9. Python supports the creation of anonymous functions at runtime using a construct called?\n",
    "Ans:- In python we use 'lambda' for creating an anonymous function.\n",
    "10. What does PIP stand for?\n",
    "Ans:- PIP stand for PREFERRED INSTALLER PROGRAM.\n",
    "11. Mention a few built-in function in python.\n",
    "Ans:- str(), list(), tuple(), dict(), len(), type(), print(), append(), extend() etc.\n",
    "12. What is the maximum possible length of an identifier in python?\n",
    "Ans:- 79 charecter length can be used to define an identifier in python.\n",
    "13. What are the benifits of python?\n",
    "Ans:- There are lots of benifits of using python as a language some of them are mentioned below:\n",
    "    1. High Level: Python is a high level programming laguage which is easy to learn and write a code. \n",
    "    when we are writing a code in python it looks like we are writing general english, when we read the code\n",
    "    it feels we are reading news paper. Being a programmer we need not to take care about the low level activity\n",
    "    like memory management and security all these are activity are taken care by python itself.\n",
    "    2. Freeware and Open source: We can use python software without any licence we need not pay a single rupees \n",
    "    for that its totally free. Its code is open source we can even customize it according to our requirement\n",
    "    as example Jython is the customized version of python to work with java.\n",
    "    3. Platform Independent: Once we write the python code we can run it to any system/platform without re-writing\n",
    "    internally PVM will take care about this.\n",
    "    4.Dynamically Typed: Generally in all programming language we need to define the data type while we are defining\n",
    "    any variable but in python when we assign the value inside the variable then by analysing the nature of the\n",
    "    value it autometically defines the data type internally. Because the python is developed on the basis of DUCK\n",
    "    TYPING philosopy means if we walk like a DUCK, talk like a DUCK then it means it duck.\n",
    "    5. Embeded and Extensible: Embeded means we can use the python code into the another language code and extensible\n",
    "    means we can use another language code into the python code this is the best feature to intrect with all language.\n",
    "    6. Extensive Libraries: In python we have lots of libraries to perfor all types of activities. Just we need to\n",
    "    import it and use it all the codes are evaluating day by day by Python softeware foundation we need not to bother\n",
    "    about that. So it does the programmers duty very easy.\n",
    "14. How is memory managed in python?\n",
    "Ans:- Memory management in Python involves a private heap containing all Python objects and data structures. \n",
    "The management of this private heap is ensured internally by the Python memory manager. The Python memory \n",
    "manager has different components which deal with various dynamic storage management aspects, like sharing, \n",
    "segmentation, preallocation or caching. It has garbage collector wich collects the unnacessory memory.\n",
    "15. How to install python in windows and set the path variables?\n",
    "Ans:- To install the python we need to visit the official website of the python i.e https://www.python.org/ then\n",
    "go to downloads and clik on the download then it will downloaded. Click on Next Next and install it once installation\n",
    "done then in those steps only it will ask for path. There are two options for the same one is add to my path if we\n",
    "check that then it will autometically install it into our system. And another one is choose path then in that case\n",
    "we need to specify our path where you want to install it.\n",
    "16. Is indentation is required in python?\n",
    "Ans:- In python if we want to specify a block of pragram then we need to maintain the indentation into the code\n",
    "so it is maindatory to maintain the indentatin into the python programming.\n"
   ]
  }
 ],
 "metadata": {
  "kernelspec": {
   "display_name": "Python 3 (ipykernel)",
   "language": "python",
   "name": "python3"
  },
  "language_info": {
   "codemirror_mode": {
    "name": "ipython",
    "version": 3
   },
   "file_extension": ".py",
   "mimetype": "text/x-python",
   "name": "python",
   "nbconvert_exporter": "python",
   "pygments_lexer": "ipython3",
   "version": "3.10.8"
  }
 },
 "nbformat": 4,
 "nbformat_minor": 5
}
