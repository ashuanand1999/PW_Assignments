{
 "cells": [
  {
   "cell_type": "code",
   "execution_count": 9,
   "id": "69e3cf53-90b2-4f36-8076-c9da26e94d9c",
   "metadata": {},
   "outputs": [
    {
     "name": "stdin",
     "output_type": "stream",
     "text": [
      "Enter you marks:  86\n"
     ]
    },
    {
     "name": "stdout",
     "output_type": "stream",
     "text": [
      "Your Grade is B !!\n"
     ]
    }
   ],
   "source": [
    "#1. Write a program to accept the percentage marks from the user and display the grade according to the criteria.\n",
    "Marks= int(input(\"Enter you marks: \"))\n",
    "if Marks > 90:\n",
    "    print(\"Your Grade is A !!\")\n",
    "elif Marks >= 80 and Marks<= 90:\n",
    "    print(\"Your Grade is B !!\")\n",
    "elif Marks >= 60 and Marks<= 80:\n",
    "    print(\"Your Grade is C !!\")\n",
    "else:\n",
    "    print(\"Your Grade is D !!\")"
   ]
  },
  {
   "cell_type": "code",
   "execution_count": 11,
   "id": "f7c5cc62-5675-4e25-9df0-62313bd0e682",
   "metadata": {},
   "outputs": [
    {
     "name": "stdin",
     "output_type": "stream",
     "text": [
      "Enter the price of bike:  120000\n"
     ]
    },
    {
     "name": "stdout",
     "output_type": "stream",
     "text": [
      "Your Bike_Price is Above 100k so your tax will be 15% i.e  18000.0 and total on road prince is 138000.0\n"
     ]
    }
   ],
   "source": [
    "#2. Write a program to accept the cost price of a bike and display the road tax to be paid according to the following criteria.\n",
    "Bike_Price = int(input(\"Enter the price of bike: \"))\n",
    "if Bike_Price > 100000:\n",
    "    print(\"Your Bike_Price is Above 100k so your tax will be 15% i.e \",Bike_Price*15/100, \"and total on road prince is\",(Bike_Price*15/100)+Bike_Price)\n",
    "elif Bike_Price >= 50000 and Bike_Price<= 100000:\n",
    "    print(\"Your Bike_Price is between 50k to 100k so your tax will be 10% i.e \",Bike_Price*10/100, \"and total on road prince is\",(Bike_Price*10/100)+Bike_Price)\n",
    "else:\n",
    "    print(\"Your Bike_Price is below 50k so your tax will be 5% i.e \",Bike_Price*5/100,\"and total on road prince is\",(Bike_Price*5/100)+Bike_Price)"
   ]
  },
  {
   "cell_type": "code",
   "execution_count": 7,
   "id": "96c08162-efae-418d-a808-5076163aee34",
   "metadata": {},
   "outputs": [
    {
     "name": "stdin",
     "output_type": "stream",
     "text": [
      "Enter any city name:  Siwan\n"
     ]
    },
    {
     "name": "stdout",
     "output_type": "stream",
     "text": [
      "Sorry we don't have services for your enterd city please plan for Delhi, Agra or Jaipur... \n"
     ]
    }
   ],
   "source": [
    "#3. Accept any city name and return the monuments of that city.\n",
    "City_Name=input(\"Enter any city name: \")\n",
    "if City_Name == \"Delhi\":\n",
    "    print(\"You are in Rajdhani plz visit to Red Fort!!!\")\n",
    "elif City_Name == \"Agra\":\n",
    "    print(\"You are in Agra Never miss one of the world's wounder TAJ MAHAL!!!\")\n",
    "elif City_Name == \"Jaipur\":\n",
    "    print(\"You are in PINK CITY please visit the JAL MAHAL\")\n",
    "else:\n",
    "    print(\"Sorry we don't have services for your enterd city please plan for Delhi, Agra or Jaipur... \")"
   ]
  },
  {
   "cell_type": "code",
   "execution_count": 4,
   "id": "243f363e-d3c9-4784-859d-86c2a5687b0b",
   "metadata": {},
   "outputs": [
    {
     "name": "stdin",
     "output_type": "stream",
     "text": [
      "Enter Number to check the divisibility count with 3 :  1099\n"
     ]
    },
    {
     "name": "stdout",
     "output_type": "stream",
     "text": [
      "5\n"
     ]
    }
   ],
   "source": [
    "#4. Check how many times a given number can be divided by 3 before it is less than or equal to 10.\n",
    "num=int(input(\"Enter Number to check the divisibility count with 3 : \"))\n",
    "count = 0\n",
    "while num > 10:\n",
    "    num = num / 3\n",
    "    count += 1\n",
    "print(count)"
   ]
  },
  {
   "cell_type": "code",
   "execution_count": null,
   "id": "e9800951-850c-4ef1-9033-9d2a467c9d8b",
   "metadata": {},
   "outputs": [],
   "source": [
    "5. Why and when to use the while loop in python give a detailed give a detailed description with exaple.\n",
    "Ans:- While loop is used in python and it will executed util a certain condition met. Once the codition will \n",
    "not met then on that time the loop will be terminated. While loop can also be used as infinite loop if that \n",
    "codition is always met."
   ]
  },
  {
   "cell_type": "code",
   "execution_count": 19,
   "id": "4535aedb-cd99-4a57-9316-2d5076e69562",
   "metadata": {},
   "outputs": [
    {
     "name": "stdin",
     "output_type": "stream",
     "text": [
      "Enter a number which is less then 5:  5\n"
     ]
    },
    {
     "name": "stdout",
     "output_type": "stream",
     "text": [
      "Vandey Mataram!!!!\n"
     ]
    }
   ],
   "source": [
    "# Here the while loop will executed only when the conditon is met once the codition not satisfying then it will not executed.\n",
    "num=int(input(\"Enter a number which is less then 5: \"))\n",
    "count=5\n",
    "while num<=count:\n",
    "    print(\"Vandey Mataram!!!!\")\n",
    "    num+=1\n"
   ]
  },
  {
   "cell_type": "code",
   "execution_count": 18,
   "id": "dc0f2493-b73a-4b54-b6a3-9f15eb8cdde3",
   "metadata": {},
   "outputs": [
    {
     "name": "stdin",
     "output_type": "stream",
     "text": [
      "Enter a number which is less then 5:  5\n"
     ]
    }
   ],
   "source": [
    "# This while loop will work as infinite loop if we enter the value below to 5 and if we enter the value greater\n",
    "# then 5 then it will not work so we can say that while loop work only when the codition satisfies else not work\n",
    "num=int(input(\"Enter a number which is less then 5: \"))\n",
    "if num<5:\n",
    "    print(\"Wrong Input please see the instruction carefully!!!\")\n",
    "count=5\n",
    "while num<count:\n",
    "    print(\"Vandey Mataram!!!!\")\n",
    "    "
   ]
  },
  {
   "cell_type": "code",
   "execution_count": 20,
   "id": "bef0fd08-9555-4090-85e2-ca2c4350bb15",
   "metadata": {},
   "outputs": [
    {
     "name": "stdout",
     "output_type": "stream",
     "text": [
      "*\n",
      "**\n",
      "***\n",
      "****\n",
      "*****\n"
     ]
    }
   ],
   "source": [
    "i = 1\n",
    "while i <= 5:\n",
    "    j = 1\n",
    "    while j <= i:\n",
    "        print(\"*\", end=\"\")\n",
    "        j += 1\n",
    "    print(\"\")\n",
    "    i += 1\n"
   ]
  },
  {
   "cell_type": "code",
   "execution_count": 21,
   "id": "0a290a4e-1f45-42b5-be2d-1c6335253ab5",
   "metadata": {},
   "outputs": [
    {
     "name": "stdout",
     "output_type": "stream",
     "text": [
      "*****\n",
      "****\n",
      "***\n",
      "**\n",
      "*\n"
     ]
    }
   ],
   "source": [
    "i = 5\n",
    "while i >= 1:\n",
    "    j = 1\n",
    "    while j <= i:\n",
    "        print(\"*\", end=\"\")\n",
    "        j += 1\n",
    "    print(\"\")\n",
    "    i -= 1"
   ]
  },
  {
   "cell_type": "code",
   "execution_count": 1,
   "id": "3c9b2b07-520e-43a2-b847-30abd179f0b6",
   "metadata": {},
   "outputs": [
    {
     "name": "stdout",
     "output_type": "stream",
     "text": [
      "* * * * * \n",
      "* * * * * \n",
      "* * * * * \n",
      "* * * * * \n",
      "* * * * * \n"
     ]
    }
   ],
   "source": [
    "size = 5\n",
    "row = 0\n",
    "\n",
    "while row < size:\n",
    "    col = 0\n",
    "    while col < size:\n",
    "        print('*', end=' ')\n",
    "        col += 1\n",
    "    print()\n",
    "    row += 1\n"
   ]
  },
  {
   "cell_type": "code",
   "execution_count": 2,
   "id": "7ef3409e-5e6a-4761-81e8-478c002f5b87",
   "metadata": {},
   "outputs": [
    {
     "name": "stdout",
     "output_type": "stream",
     "text": [
      "10\n",
      "9\n",
      "8\n",
      "7\n",
      "6\n",
      "5\n",
      "4\n",
      "3\n",
      "2\n",
      "1\n"
     ]
    }
   ],
   "source": [
    "num = 10\n",
    "while num >= 1:\n",
    "    print(num)\n",
    "    num -= 1\n"
   ]
  },
  {
   "cell_type": "code",
   "execution_count": null,
   "id": "04305bc1-374f-4b29-9a61-3595c8a65b92",
   "metadata": {},
   "outputs": [],
   "source": []
  }
 ],
 "metadata": {
  "kernelspec": {
   "display_name": "Python 3 (ipykernel)",
   "language": "python",
   "name": "python3"
  },
  "language_info": {
   "codemirror_mode": {
    "name": "ipython",
    "version": 3
   },
   "file_extension": ".py",
   "mimetype": "text/x-python",
   "name": "python",
   "nbconvert_exporter": "python",
   "pygments_lexer": "ipython3",
   "version": "3.10.8"
  }
 },
 "nbformat": 4,
 "nbformat_minor": 5
}
